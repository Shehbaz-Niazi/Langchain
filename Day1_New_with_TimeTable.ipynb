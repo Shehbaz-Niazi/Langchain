{
  "nbformat": 4,
  "nbformat_minor": 0,
  "metadata": {
    "colab": {
      "provenance": [],
      "authorship_tag": "ABX9TyPGhV0sXY/drHkk0nXMV/QH",
      "include_colab_link": true
    },
    "kernelspec": {
      "name": "python3",
      "display_name": "Python 3"
    },
    "language_info": {
      "name": "python"
    }
  },
  "cells": [
    {
      "cell_type": "markdown",
      "metadata": {
        "id": "view-in-github",
        "colab_type": "text"
      },
      "source": [
        "<a href=\"https://colab.research.google.com/github/Shehbaz-Niazi/Langchian-Series-Projects/blob/main/Day1_New_with_TimeTable.ipynb\" target=\"_parent\"><img src=\"https://colab.research.google.com/assets/colab-badge.svg\" alt=\"Open In Colab\"/></a>"
      ]
    },
    {
      "cell_type": "markdown",
      "source": [
        "# **_________________________________________Task 1 & 2_______________________________**\n",
        "\n",
        "# **Hello World with Gemini API**"
      ],
      "metadata": {
        "id": "iDXA5utJgrTa"
      }
    },
    {
      "cell_type": "code",
      "execution_count": null,
      "metadata": {
        "id": "nfBZdXRYXO5F"
      },
      "outputs": [],
      "source": [
        "!pip install -q -U langchain"
      ]
    },
    {
      "cell_type": "code",
      "source": [
        "!pip install -q -U langchain-google-genai"
      ],
      "metadata": {
        "id": "VcPQGZrIXe1_"
      },
      "execution_count": null,
      "outputs": []
    },
    {
      "cell_type": "code",
      "source": [
        "from google.colab import userdata\n",
        "GOOGLE_API_KEY = userdata.get('GOOGLE_API_KEY')"
      ],
      "metadata": {
        "id": "cIYTUEC9Xhbb"
      },
      "execution_count": null,
      "outputs": []
    },
    {
      "cell_type": "code",
      "source": [
        "import pathlib\n",
        "import textwrap\n",
        "\n",
        "import google.generativeai as genai\n",
        "\n",
        "from IPython.display import display\n",
        "from IPython.display import Markdown\n",
        "\n",
        "\n",
        "def to_markdown(text):\n",
        "    text = text.replace(\"•\", \"  *\")\n",
        "    return Markdown(textwrap.indent(text, \"> \", predicate=lambda _: True))"
      ],
      "metadata": {
        "id": "m-GpsOWqZQIT"
      },
      "execution_count": null,
      "outputs": []
    },
    {
      "cell_type": "code",
      "source": [
        "from langchain_google_genai import ChatGoogleGenerativeAI\n",
        "\n",
        "llm:ChatGoogleGenerativeAI = ChatGoogleGenerativeAI(\n",
        "    temprature = '0.9',\n",
        "    model = 'gemini-1.5-flash',\n",
        "    api_key = GOOGLE_API_KEY\n",
        ")\n",
        "\n",
        "propmt = \"What is the name 9th Highest Mountain in the world and where it is located?\"\n",
        "\n",
        "reposne = llm.invoke(propmt)\n",
        "to_markdown(reposne.content)"
      ],
      "metadata": {
        "colab": {
          "base_uri": "https://localhost:8080/",
          "height": 62
        },
        "id": "wXzYJ-k3X2El",
        "outputId": "81b583cb-ac0f-43b3-a13c-0f622107973c"
      },
      "execution_count": null,
      "outputs": [
        {
          "output_type": "execute_result",
          "data": {
            "text/plain": [
              "<IPython.core.display.Markdown object>"
            ],
            "text/markdown": "> The 9th highest mountain in the world is **Nanga Parbat**, located in the **Himalayas in Pakistan**.\n"
          },
          "metadata": {},
          "execution_count": 5
        }
      ]
    },
    {
      "cell_type": "markdown",
      "source": [
        "# **_______________________________Task 3_______________________________**\n",
        "# **Prompt Template**\n",
        "Prompt Template is used for dynamic promt"
      ],
      "metadata": {
        "id": "fFizz6EchFwk"
      }
    },
    {
      "cell_type": "code",
      "source": [
        "from langchain_core.prompts import PromptTemplate\n",
        "\n",
        "\n",
        "prompt = \"Tell Me a joke in {language} Language about {topic}\"\n",
        "\n",
        "prompt_Template = PromptTemplate(template = prompt)\n",
        "formated_prompt = prompt_Template.format(language=\"English\", topic = \"dog\")\n",
        "response = llm.invoke(formated_prompt)\n",
        "to_markdown(response.content)\n",
        "\n"
      ],
      "metadata": {
        "id": "862WEjSzhEdQ"
      },
      "execution_count": null,
      "outputs": []
    },
    {
      "cell_type": "markdown",
      "source": [
        "# **_______________________________Task 4_______________________________**\n",
        "# **Chat Prompt Template**\n",
        " Chat Prompt Template\n"
      ],
      "metadata": {
        "id": "2GtIfgthmDVI"
      }
    },
    {
      "cell_type": "code",
      "source": [
        "from langchain_core.prompts import ChatPromptTemplate\n",
        "\n",
        "prompts  = ChatPromptTemplate.from_messages(\n",
        "    [\n",
        "        (\"system\", \"You are a helpful assistant specialized in translations. Always translate text from {input_language} into {output_language} and respond only with the translated text.\"),\n",
        "        (\"human\",\"{userInput_text}\",)\n",
        "    ]\n",
        ")\n",
        "\n",
        "formatted_prompts = prompts.format_prompt(\n",
        "    input_language=\"English\",\n",
        "    output_language=\"urdu\",\n",
        "    userInput_text=\"What is the name 9th Highest Mountain in the world and where it is located?\"\n",
        ")\n",
        "\n",
        "# print(formatted_prompts)\n",
        "\n",
        "response = llm.invoke(formatted_prompts)\n",
        "print(response.content)\n"
      ],
      "metadata": {
        "id": "0pm8Hdg_mAT8",
        "colab": {
          "base_uri": "https://localhost:8080/"
        },
        "outputId": "fc533389-1ad3-458a-9683-e68f293bb46d"
      },
      "execution_count": null,
      "outputs": [
        {
          "output_type": "stream",
          "name": "stdout",
          "text": [
            "دنیا کا نواں سب سے اونچا پہاڑ کون سا ہے اور یہ کہاں واقع ہے؟\n",
            "\n"
          ]
        }
      ]
    }
  ]
}