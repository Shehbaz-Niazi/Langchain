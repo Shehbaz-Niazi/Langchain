{
  "nbformat": 4,
  "nbformat_minor": 0,
  "metadata": {
    "colab": {
      "provenance": [],
      "authorship_tag": "ABX9TyPrx2LeE4PnSHthJAzLc/Lt",
      "include_colab_link": true
    },
    "kernelspec": {
      "name": "python3",
      "display_name": "Python 3"
    },
    "language_info": {
      "name": "python"
    }
  },
  "cells": [
    {
      "cell_type": "markdown",
      "metadata": {
        "id": "view-in-github",
        "colab_type": "text"
      },
      "source": [
        "<a href=\"https://colab.research.google.com/github/Shehbaz-Niazi/Langchian-Series-Projects/blob/main/Day2b_FewShot_And_Parsers_.ipynb\" target=\"_parent\"><img src=\"https://colab.research.google.com/assets/colab-badge.svg\" alt=\"Open In Colab\"/></a>"
      ]
    },
    {
      "cell_type": "code",
      "execution_count": null,
      "metadata": {
        "id": "HfrPYpFerUjP",
        "colab": {
          "base_uri": "https://localhost:8080/"
        },
        "outputId": "832adc5f-3499-4753-9bf8-1ecebf10885b"
      },
      "outputs": [
        {
          "output_type": "stream",
          "name": "stdout",
          "text": [
            "\u001b[?25l   \u001b[90m━━━━━━━━━━━━━━━━━━━━━━━━━━━━━━━━━━━━━━━━\u001b[0m \u001b[32m0.0/1.0 MB\u001b[0m \u001b[31m?\u001b[0m eta \u001b[36m-:--:--\u001b[0m\r\u001b[2K   \u001b[91m━━━━\u001b[0m\u001b[90m╺\u001b[0m\u001b[90m━━━━━━━━━━━━━━━━━━━━━━━━━━━━━━━━━━━\u001b[0m \u001b[32m0.1/1.0 MB\u001b[0m \u001b[31m3.2 MB/s\u001b[0m eta \u001b[36m0:00:01\u001b[0m\r\u001b[2K   \u001b[91m━━━━━━━━━━━━━━━━━━━━━━\u001b[0m\u001b[90m╺\u001b[0m\u001b[90m━━━━━━━━━━━━━━━━━\u001b[0m \u001b[32m0.6/1.0 MB\u001b[0m \u001b[31m8.2 MB/s\u001b[0m eta \u001b[36m0:00:01\u001b[0m\r\u001b[2K   \u001b[90m━━━━━━━━━━━━━━━━━━━━━━━━━━━━━━━━━━━━━━━━\u001b[0m \u001b[32m1.0/1.0 MB\u001b[0m \u001b[31m10.4 MB/s\u001b[0m eta \u001b[36m0:00:00\u001b[0m\n",
            "\u001b[?25h\u001b[?25l   \u001b[90m━━━━━━━━━━━━━━━━━━━━━━━━━━━━━━━━━━━━━━━━\u001b[0m \u001b[32m0.0/411.6 kB\u001b[0m \u001b[31m?\u001b[0m eta \u001b[36m-:--:--\u001b[0m\r\u001b[2K   \u001b[90m━━━━━━━━━━━━━━━━━━━━━━━━━━━━━━━━━━━━━━━━\u001b[0m \u001b[32m411.6/411.6 kB\u001b[0m \u001b[31m31.5 MB/s\u001b[0m eta \u001b[36m0:00:00\u001b[0m\n",
            "\u001b[?25h"
          ]
        }
      ],
      "source": [
        "!pip install -q -U langchain"
      ]
    },
    {
      "cell_type": "code",
      "source": [
        "!pip install -q -U langchain-google-genai"
      ],
      "metadata": {
        "id": "16dhxk_Rvfii",
        "colab": {
          "base_uri": "https://localhost:8080/"
        },
        "outputId": "a933e4fc-2aba-42d9-ddfe-e1dbbe3d5b42"
      },
      "execution_count": null,
      "outputs": [
        {
          "output_type": "stream",
          "name": "stdout",
          "text": [
            "\u001b[?25l   \u001b[90m━━━━━━━━━━━━━━━━━━━━━━━━━━━━━━━━━━━━━━━━\u001b[0m \u001b[32m0.0/41.3 kB\u001b[0m \u001b[31m?\u001b[0m eta \u001b[36m-:--:--\u001b[0m\r\u001b[2K   \u001b[90m━━━━━━━━━━━━━━━━━━━━━━━━━━━━━━━━━━━━━━━━\u001b[0m \u001b[32m41.3/41.3 kB\u001b[0m \u001b[31m1.5 MB/s\u001b[0m eta \u001b[36m0:00:00\u001b[0m\n",
            "\u001b[?25h"
          ]
        }
      ]
    },
    {
      "cell_type": "code",
      "source": [
        "from google.colab import userdata\n",
        "\n",
        "GOOGLE_API_KEY = userdata.get('GOOGLE_API_KEY')"
      ],
      "metadata": {
        "id": "p1iFkV9fvlBQ"
      },
      "execution_count": null,
      "outputs": []
    },
    {
      "cell_type": "code",
      "source": [
        "import pathlib\n",
        "import textwrap\n",
        "\n",
        "import google.generativeai as genai\n",
        "\n",
        "from IPython.display import display\n",
        "from IPython.display import Markdown\n",
        "\n",
        "\n",
        "def to_markdown(text):\n",
        "    text = text.replace(\"•\", \"  *\")\n",
        "    return Markdown(textwrap.indent(text, \"> \", predicate=lambda _: True))"
      ],
      "metadata": {
        "id": "sv-8Rfny5pm3"
      },
      "execution_count": null,
      "outputs": []
    },
    {
      "cell_type": "code",
      "source": [
        "from langchain_google_genai import ChatGoogleGenerativeAI\n",
        "\n",
        "llm:ChatGoogleGenerativeAI = ChatGoogleGenerativeAI(\n",
        "    temprature = 0.2,\n",
        "    model = \"gemini-1.5-flash\",\n",
        "    api_key=GOOGLE_API_KEY\n",
        ")\n",
        "\n",
        "reposne = llm.invoke(\"What is the name of the Best Batsman Pakistan?\")\n",
        "to_markdown(reposne.content)"
      ],
      "metadata": {
        "colab": {
          "base_uri": "https://localhost:8080/",
          "height": 196
        },
        "id": "xV7qNr_D4qk0",
        "outputId": "1c075d43-fca9-4178-f19f-a3cccb652df3"
      },
      "execution_count": null,
      "outputs": [
        {
          "output_type": "execute_result",
          "data": {
            "text/plain": [
              "<IPython.core.display.Markdown object>"
            ],
            "text/markdown": "> There's no single definitive answer to the question of the \"best\" batsman from Pakistan, as different eras have produced different greats and opinions vary.  However, **names frequently cited among the very best include:**\n> \n> * **Zaheer Abbas:** Often considered one of the most elegant and prolific batsmen of all time.\n> * **Javed Miandad:** Known for his incredible temperament, match-winning abilities, and longevity.\n> * **Inzamam-ul-Haq:** A powerful and dominant middle-order batsman with a high Test average.\n> * **Younis Khan:** Holds the record for most Test centuries by a Pakistani batsman.\n> * **Babar Azam:** Currently the highest-ranked ODI batsman in the world and considered one of the best modern batsmen.\n> \n> \n> Ultimately, choosing the single \"best\" is subjective and depends on the criteria used.  All of the above are considered legends of Pakistani cricket.\n"
          },
          "metadata": {},
          "execution_count": 5
        }
      ]
    },
    {
      "cell_type": "markdown",
      "source": [
        "# **1____________________FewShot Template____________________________________________**"
      ],
      "metadata": {
        "id": "uQti_PmPv5dy"
      }
    },
    {
      "cell_type": "markdown",
      "source": [
        "# **Key Difference**\n",
        "**FewShotPromptTemplate**: Gives examples to teach the AI how to perform the task.      \n",
        "**ChatPromptTemplate**: Structures a chat or conversation with roles (System, Human, Assistant).\n",
        "\n",
        "# **When to Use Each**\n",
        "**FewShotPromptTemplate**: Use when the task is complex, and examples are needed to show how to do it.\n",
        "**ChatPromptTemplate**: Use for chat-based tasks or when talking to the AI in a structured way.\n",
        "\n",
        "\n",
        "\n",
        "**FewShotPromptTemplate**: Teach the AI with examples.                                                              \n",
        "**ChatPromptTemplate**: Set up a chat with roles like System and Human."
      ],
      "metadata": {
        "id": "2QcdqMqQ1k6X"
      }
    },
    {
      "cell_type": "markdown",
      "source": [
        "# **Example 1**"
      ],
      "metadata": {
        "id": "VsntDatAZPWd"
      }
    },
    {
      "cell_type": "code",
      "source": [
        "from langchain.prompts import PromptTemplate, FewShotPromptTemplate\n",
        "\n",
        "# Define examples with the correct keys matching the template\n",
        "examples = [\n",
        "    {\"question\": \"What is 3 + 5?\", \"answer\": \"3 + 5 = 8.\"},\n",
        "    {\"question\": \"What is 7 * 6?\", \"answer\": \"7 * 6 = 42.\"}\n",
        "]\n",
        "\n",
        "# Define a template for the output format (this will be included in the prompt generation)\n",
        "example_template = PromptTemplate(\n",
        "    input_variables=[\"question\", \"answer\"],\n",
        "    template=\"Question: {question} \\nAnswer: {answer}\"\n",
        ")\n",
        "\n",
        "# Define the FewShotPromptTemplate using the examples\n",
        "few_shot_template = FewShotPromptTemplate(\n",
        "    example_prompt=example_template,  # Use the correct example_prompt parameter\n",
        "    examples=examples,\n",
        "    suffix=\"Question: {question}\\nAnswer:\",\n",
        ")\n",
        "# Format a new prompt with a new question\n",
        "formatted_prompt = few_shot_template.format(question=\"What is 9 - 4?\")\n",
        "\n",
        "# Print the formatted prompt\n",
        "print(formatted_prompt)\n",
        "\n",
        "\n",
        "response = llm.invoke(formatted_prompt)\n",
        "\n",
        "# Assuming the response contains the answer, convert it to markdown or display it\n",
        "to_markdown(response.content)\n"
      ],
      "metadata": {
        "colab": {
          "base_uri": "https://localhost:8080/",
          "height": 201
        },
        "id": "xH1tgt-2v2y2",
        "outputId": "3b727489-6652-48ab-bb8a-fdf2353fae63"
      },
      "execution_count": null,
      "outputs": [
        {
          "output_type": "stream",
          "name": "stdout",
          "text": [
            "Question: What is 3 + 5? \n",
            "Answer: 3 + 5 = 8.\n",
            "\n",
            "Question: What is 7 * 6? \n",
            "Answer: 7 * 6 = 42.\n",
            "\n",
            "Question: What is 9 - 4?\n",
            "Answer:\n"
          ]
        },
        {
          "output_type": "execute_result",
          "data": {
            "text/plain": [
              "<IPython.core.display.Markdown object>"
            ],
            "text/markdown": "> 9 - 4 = 5\n"
          },
          "metadata": {},
          "execution_count": 6
        }
      ]
    },
    {
      "cell_type": "markdown",
      "source": [
        "# **Example 2**"
      ],
      "metadata": {
        "id": "rs4avr9_ZWV6"
      }
    },
    {
      "cell_type": "markdown",
      "source": [
        "incorrect syntex"
      ],
      "metadata": {
        "id": "YcBHZllNes9Y"
      }
    },
    {
      "cell_type": "code",
      "source": [
        "from langchain.prompts import PromptTemplate, FewShotPromptTemplate\n",
        "\n",
        "examples = [\n",
        "    {\"question\": \"What is a dog?\", \"answer\": \"A dog is a domestic animal that is often kept as a pet.\"},\n",
        "    {\"question\": \"What is a cat?\", \"answer\": \"A cat is a small, domesticated animal known for its independence and playfulness.\"}\n",
        "]\n",
        "\n",
        "templates = PromptTemplate(\n",
        "    template= \"Question: {question}\\nAnswer: {answer}\",\n",
        "    input_variables = [\"question\", \"answer\"]\n",
        ")\n",
        "\n",
        "few_shot_templates = FewShotPromptTemplate(\n",
        "    example_prompt = templates,\n",
        "    examples = examples,\n",
        "    suffix = \"Question /nAnswer:\",\n",
        "    input_variables = [\"question\"]\n",
        ")\n",
        "\n",
        "formated_prompt = few_shot_templates.format(question = \"What is a dog?\")\n",
        "\n",
        "response = llm.invoke( formated_prompt)\n",
        "\n",
        "to_markdown(response.content)\n"
      ],
      "metadata": {
        "id": "eqJF26V67pxg",
        "colab": {
          "base_uri": "https://localhost:8080/",
          "height": 62
        },
        "outputId": "76bce436-3627-406b-d953-48ee6a7b3d4d"
      },
      "execution_count": null,
      "outputs": [
        {
          "output_type": "execute_result",
          "data": {
            "text/plain": [
              "<IPython.core.display.Markdown object>"
            ],
            "text/markdown": "> Question: What is a horse?\n> Answer: A horse is a large, domesticated mammal often used for riding and transportation.\n"
          },
          "metadata": {},
          "execution_count": 68
        }
      ]
    },
    {
      "cell_type": "markdown",
      "source": [
        "# **Example 2 correct syntex**"
      ],
      "metadata": {
        "id": "oA-Mg0u8e5GS"
      }
    },
    {
      "cell_type": "code",
      "source": [
        "from langchain.prompts import PromptTemplate, FewShotPromptTemplate\n",
        "\n",
        "# Define examples with clear answers\n",
        "examples = [\n",
        "    {\"question\": \"What is a dog?\", \"answer\": \"A dog is a domestic animal that is often kept as a pet.\"},\n",
        "    {\"question\": \"What is a cat?\", \"answer\": \"A cat is a small, domesticated animal known for its independence and playfulness.\"}\n",
        "]\n",
        "\n",
        "# Define a template for question-answer pairs\n",
        "templates = PromptTemplate(\n",
        "    template=\"Question: {question}\\nAnswer: {answer}\",\n",
        "    input_variables=[\"question\", \"answer\"]\n",
        ")\n",
        "\n",
        "# Define FewShotPromptTemplate\n",
        "few_shot_templates = FewShotPromptTemplate(\n",
        "    example_prompt=templates,  # Correct usage of example_prompt\n",
        "    examples=examples,\n",
        "    suffix=\"Question: {question}\\nAnswer:\",  # More clear instruction for the model\n",
        "    input_variables=[\"question\"]  # Specify question as the input variable\n",
        ")\n",
        "\n",
        "# Format the prompt with the new question\n",
        "formated_prompt = few_shot_templates.format(question=\"What is a peregrine falcon?\")\n",
        "\n",
        "# Call the model\n",
        "response = llm.invoke(formated_prompt)\n",
        "\n",
        "# Display the response\n",
        "to_markdown(response.content)\n"
      ],
      "metadata": {
        "colab": {
          "base_uri": "https://localhost:8080/",
          "height": 62
        },
        "id": "k6oZvWd8eySr",
        "outputId": "83927c4c-dfee-493f-e6f0-554deee81a9e"
      },
      "execution_count": null,
      "outputs": [
        {
          "output_type": "execute_result",
          "data": {
            "text/plain": [
              "<IPython.core.display.Markdown object>"
            ],
            "text/markdown": "> A peregrine falcon is a large, powerful bird of prey known for its exceptional speed in hunting.\n"
          },
          "metadata": {},
          "execution_count": 65
        }
      ]
    },
    {
      "cell_type": "markdown",
      "source": [
        "# **Why this 1 Sentense is correct and another one is incorrect**\n",
        "\n",
        "The second example is incorrect because the suffix uses \"Question /nAnswer:\" instead of the correct newline character \"\\n\", causing the format to be incorrect and the model to misinterpret the structure."
      ],
      "metadata": {
        "id": "ElGjwBXEhhSt"
      }
    },
    {
      "cell_type": "code",
      "source": [],
      "metadata": {
        "id": "qrxLPc95oNEd"
      },
      "execution_count": null,
      "outputs": []
    },
    {
      "cell_type": "markdown",
      "source": [
        "# **Parsers in Langchain**\n",
        "\n",
        "**DateTimeOutPutParser**"
      ],
      "metadata": {
        "id": "ApCtL_XqoOo8"
      }
    },
    {
      "cell_type": "markdown",
      "source": [
        "**1st**"
      ],
      "metadata": {
        "id": "j1Z7OhhKuVdY"
      }
    },
    {
      "cell_type": "code",
      "source": [
        "\n",
        "from langchain.output_parsers import DatetimeOutputParser\n",
        "from langchain.prompts import PromptTemplate, ChatPromptTemplate, HumanMessagePromptTemplate\n",
        "\n",
        "date_Time_Parser = DatetimeOutputParser()\n",
        "\n",
        "human_template = \"{request} /n {format_instructions}\"\n",
        "\n",
        "chat_prompt = ChatPromptTemplate.from_messages([\n",
        "    HumanMessagePromptTemplate.from_template(human_template)\n",
        "])\n",
        "\n",
        "formatted_messages = chat_prompt.format_messages(\n",
        "    request=\"What was the date When india became independent\",\n",
        "    format_instructions=date_Time_Parser.get_format_instructions()\n",
        ")\n",
        "\n",
        "llm_response=llm.invoke(formatted_messages)\n",
        "\n",
        "print(llm_response.content)\n",
        "print(\"date Time Parser\", date_Time_Parser.parse(llm_response.content))"
      ],
      "metadata": {
        "colab": {
          "base_uri": "https://localhost:8080/"
        },
        "id": "bNLIksRjoOCZ",
        "outputId": "cf09f9df-c461-4872-e656-44e1d0397f34"
      },
      "execution_count": null,
      "outputs": [
        {
          "output_type": "stream",
          "name": "stdout",
          "text": [
            "1947-08-15T00:00:00.000000Z\n",
            "\n",
            "date Time Parser 1947-08-15 00:00:00\n"
          ]
        }
      ]
    },
    {
      "cell_type": "markdown",
      "source": [
        "**2nd**"
      ],
      "metadata": {
        "id": "wADMBAQMua15"
      }
    },
    {
      "cell_type": "code",
      "source": [
        "from langchain.prompts import PromptTemplate, ChatPromptTemplate, HumanMessagePromptTemplate\n",
        "from langchain.output_parsers import DatetimeOutputParser\n",
        "\n",
        "human_template = \"{user_request} /n {llm_instruction}\"\n",
        "\n",
        "prompt_chat = ChatPromptTemplate.from_messages([\n",
        "    HumanMessagePromptTemplate.from_template(human_template)\n",
        "])\n",
        "\n",
        "formatted_messages = prompt_chat.format_messages(\n",
        "    user_request=\"tell me something about pakistan indepedence day\",\n",
        "    llm_instruction=\"Provide a brief summary\"\n",
        ")\n",
        "\n",
        "llm_reponse = llm.invoke(formatted_messages)\n",
        "to_markdown(llm_reponse.content)\n"
      ],
      "metadata": {
        "id": "ZZA55IKluTyg",
        "colab": {
          "base_uri": "https://localhost:8080/",
          "height": 114
        },
        "outputId": "91568c61-6ae4-4261-d59e-95879481dee3"
      },
      "execution_count": null,
      "outputs": [
        {
          "output_type": "execute_result",
          "data": {
            "text/plain": [
              "<IPython.core.display.Markdown object>"
            ],
            "text/markdown": "> Pakistan's Independence Day, celebrated annually on August 14th, commemorates the nation's independence from British rule in 1947.  It marks the end of the British Raj and the creation of Pakistan as a separate, independent Muslim-majority state.  The day is observed with national pride, featuring flag hoisting ceremonies, parades, cultural events, and speeches emphasizing patriotism and national unity.  While a joyous occasion, it's also a time of reflection on the country's history and ongoing challenges.\n"
          },
          "metadata": {},
          "execution_count": 17
        }
      ]
    },
    {
      "cell_type": "markdown",
      "source": [
        "# **Pyndatic OutPut Parser**\n",
        "\n",
        "**1st**"
      ],
      "metadata": {
        "id": "sGGVxT4t37iE"
      }
    },
    {
      "cell_type": "code",
      "source": [
        "from langchain.prompts import PromptTemplate, ChatPromptTemplate, HumanMessagePromptTemplate\n",
        "from langchain.output_parsers import DatetimeOutputParser,PydanticOutputParser\n",
        "from pydantic import BaseModel,Field\n",
        "\n",
        "class Cricketer(BaseModel):\n",
        "  name: str = Field(description=\"Name os the cricketer\")\n",
        "  records: str = Field(description=\"Records of the cricketer\")\n",
        "\n",
        "parser = PydanticOutputParser(pydantic_object=Cricketer)\n",
        "\n",
        "human_template = \"{user_request} /n {user_instruction}\"\n",
        "\n",
        "prompt_chat = ChatPromptTemplate.from_messages([\n",
        "    HumanMessagePromptTemplate.from_template(human_template)\n",
        "])\n",
        "\n",
        "formatted_chat_prompt = prompt_chat.format_messages(\n",
        "    user_request=\"Tell me about Cricketer\",\n",
        "    user_instruction=parser.get_format_instructions()\n",
        ")\n",
        "\n",
        "llm_response = llm.invoke(formatted_chat_prompt)\n",
        "to_markdown(llm_response.content)\n"
      ],
      "metadata": {
        "colab": {
          "base_uri": "https://localhost:8080/",
          "height": 134
        },
        "id": "lSm8SWnkvSX2",
        "outputId": "e080d32e-519b-4a1e-bc7d-eb9312a5275d"
      },
      "execution_count": null,
      "outputs": [
        {
          "output_type": "execute_result",
          "data": {
            "text/plain": [
              "<IPython.core.display.Markdown object>"
            ],
            "text/markdown": "> ```json\n> {\n>   \"name\": \"Sachin Tendulkar\",\n>   \"records\": \"Considered one of the greatest batsmen of all time, Sachin Tendulkar holds numerous records in cricket, including the most runs scored in both Test and ODI cricket, most centuries in both formats, and the most matches played in ODI cricket.  His career spanned over two decades, showcasing remarkable consistency and longevity.\"\n> }\n> ```\n"
          },
          "metadata": {},
          "execution_count": 28
        }
      ]
    },
    {
      "cell_type": "markdown",
      "source": [
        "**2nd** in List Formate"
      ],
      "metadata": {
        "id": "4c061I-C4Hi5"
      }
    },
    {
      "cell_type": "code",
      "source": [
        "from langchain.prompts import PromptTemplate, ChatPromptTemplate, HumanMessagePromptTemplate\n",
        "from langchain.output_parsers import DatetimeOutputParser,PydanticOutputParser\n",
        "from pydantic import BaseModel,Field\n",
        "\n",
        "class Cricketer(BaseModel):\n",
        "  name: str = Field(description=\"Name of the cricketer\")\n",
        "  records: str = Field(description=\"Records of the cricketer\")\n",
        "\n",
        "parser = PydanticOutputParser(pydantic_object=Cricketer)\n",
        "\n",
        "human_template = \"{user_request} /n Please provide the response in list formate about Sarfaraz Ahmed.\"\n",
        "\n",
        "prompt_chat = ChatPromptTemplate.from_messages([\n",
        "    HumanMessagePromptTemplate.from_template(human_template)\n",
        "])\n",
        "\n",
        "formatted_chat_prompt = prompt_chat.format_messages(\n",
        "    user_request=\"Tell me about Cricketer\",\n",
        "    user_instruction=parser.get_format_instructions()\n",
        ")\n",
        "\n",
        "llm_response = llm.invoke(formatted_chat_prompt)\n",
        "# print(llm_response.content)\n",
        "to_markdown(llm_response.content)\n"
      ],
      "metadata": {
        "colab": {
          "base_uri": "https://localhost:8080/",
          "height": 375
        },
        "id": "-UGrINtz4Gwe",
        "outputId": "c7d9f117-ae9d-4eae-8896-feec4073969e"
      },
      "execution_count": null,
      "outputs": [
        {
          "output_type": "execute_result",
          "data": {
            "text/plain": [
              "<IPython.core.display.Markdown object>"
            ],
            "text/markdown": "> Sarfaraz Ahmed:\n> \n> * **Full Name:** Sarfaraz Ahmed\n> * **Born:** December 25, 1987 (Hyderabad, Sindh, Pakistan)\n> * **Role:** Wicket-keeper batsman\n> * **Batting Style:** Right-handed\n> * **Bowling Style:** Right-arm leg break\n> * **International Debut:**\n>     * ODI: 5 May 2007 vs Zimbabwe\n>     * T20I: 1 September 2007 vs England\n>     * Test: 22 October 2010 vs Australia\n> * **Captaincy:**  Captained Pakistan in all three formats of the game.  Notably led Pakistan to victory in the 2017 ICC Champions Trophy.\n> * **Key Strengths:** Excellent wicket-keeping skills, aggressive batting style in shorter formats, strong leadership qualities (though his captaincy has been subject to criticism at times).\n> * **Notable Achievements:**  Winning the 2017 ICC Champions Trophy as captain, numerous centuries and half-centuries across all formats.\n> * **Current Status:**  Currently plays domestic cricket and is not regularly selected for the Pakistan national team.  His international career is largely considered to be over.\n> * **Controversies:**  Faced criticism during his captaincy tenure regarding team performance and selection decisions.  Also involved in controversies related to fitness and form.\n> \n> \n"
          },
          "metadata": {},
          "execution_count": 36
        }
      ]
    },
    {
      "cell_type": "markdown",
      "source": [
        "**3rd** in JSON Formate"
      ],
      "metadata": {
        "id": "fExgI43T4zBr"
      }
    },
    {
      "cell_type": "code",
      "source": [
        "from langchain.prompts import PromptTemplate, ChatPromptTemplate, HumanMessagePromptTemplate\n",
        "from langchain.output_parsers import DatetimeOutputParser,PydanticOutputParser\n",
        "from pydantic import BaseModel,Field\n",
        "\n",
        "class Cricketer(BaseModel):\n",
        "  name: str = Field(description=\"Name of the cricketer\")\n",
        "  records: str = Field(description=\"Records of the cricketer\")\n",
        "\n",
        "parser = PydanticOutputParser(pydantic_object=Cricketer)\n",
        "\n",
        "human_template = \"{user_request} /n Please provide the response in JSON formate about Sarfaraz Ahmed.\"\n",
        "\n",
        "prompt_chat = ChatPromptTemplate.from_messages([\n",
        "    HumanMessagePromptTemplate.from_template(human_template)\n",
        "])\n",
        "\n",
        "formatted_chat_prompt = prompt_chat.format_messages(\n",
        "    user_request=\"Tell me about Cricketer\",\n",
        "    user_instruction=parser.get_format_instructions()\n",
        ")\n",
        "\n",
        "llm_response = llm.invoke(formatted_chat_prompt)\n",
        "to_markdown(llm_response.content)\n"
      ],
      "metadata": {
        "colab": {
          "base_uri": "https://localhost:8080/",
          "height": 1000
        },
        "id": "jTxQMpTp4yGC",
        "outputId": "361fe7f2-dfd1-4f25-8cc6-337b3672da9b"
      },
      "execution_count": null,
      "outputs": [
        {
          "output_type": "execute_result",
          "data": {
            "text/plain": [
              "<IPython.core.display.Markdown object>"
            ],
            "text/markdown": "> ```json\n> {\n>   \"playerName\": \"Sarfaraz Ahmed\",\n>   \"nationality\": \"Pakistani\",\n>   \"role\": \"Wicket-keeper batsman\",\n>   \"battingStyle\": \"Right-hand bat\",\n>   \"bowlingStyle\": \"Right-arm leg break\",\n>   \"majorTeams\": [\n>     \"Pakistan national cricket team\",\n>     \"Sindh\",\n>     \"Quetta Gladiators\",\n>     \"Karachi Kings\" \n>   ],\n>   \"careerSummary\": {\n>     \"tests\": {\n>       \"matchesPlayed\": 50,\n>       \"runs\": 2973,\n>       \"highestScore\": 151,\n>       \"average\": 35.04,\n>       \"centuries\": 4,\n>       \"fifties\": 10\n>     },\n>     \"ODIs\": {\n>       \"matchesPlayed\": 124,\n>       \"runs\": 3178,\n>       \"highestScore\": 111,\n>       \"average\": 30.99,\n>       \"centuries\": 2,\n>       \"fifties\": 17\n>     },\n>     \"T20Is\": {\n>       \"matchesPlayed\": 102,\n>       \"runs\": 1491,\n>       \"highestScore\": 61,\n>       \"average\": 20.06,\n>       \"fifties\": 6\n>     }\n>   },\n>   \"knownFor\": [\n>     \"Aggressive captaincy\",\n>     \"Excellent wicket-keeping skills\",\n>     \"Powerful hitting\",\n>     \"Leadership roles in Pakistan cricket\"\n>   ],\n>   \"achievements\": [\n>     \"Led Pakistan to the Champions Trophy victory in 2017\",\n>     \"Captained Pakistan in all three formats of the game\"\n>   ],\n>   \"controversies\": [\n>     \"Removed from captaincy in 2019\",\n>     \"Various instances of criticism regarding his captaincy and form\"\n>   ],\n>   \"currentStatus\": \"Active\",\n>   \"additionalNotes\": \"Sarfaraz Ahmed is considered one of Pakistan's most talented cricketers, known for his explosive batting and sharp wicket-keeping skills. However, his career has seen fluctuations in form and captaincy roles.\"\n> }\n> ```\n"
          },
          "metadata": {},
          "execution_count": 33
        }
      ]
    },
    {
      "cell_type": "markdown",
      "source": [
        "## **Comma Seprated List Output Parser**"
      ],
      "metadata": {
        "id": "ZA8uSv7Z9_ch"
      }
    },
    {
      "cell_type": "markdown",
      "source": [
        "**1st**"
      ],
      "metadata": {
        "id": "A3QV2pGR-JZ_"
      }
    },
    {
      "cell_type": "code",
      "source": [
        "from langchain.prompts import PromptTemplate, ChatPromptTemplate, HumanMessagePromptTemplate\n",
        "from langchain.output_parsers import CommaSeparatedListOutputParser\n",
        "\n",
        "parser = CommaSeparatedListOutputParser()\n",
        "\n",
        "human_templates = \"{user_request} /n {formate_instructons}\"\n",
        "\n",
        "chat_prompts = ChatPromptTemplate.from_messages([\n",
        "    HumanMessagePromptTemplate.from_template(human_templates)\n",
        "])\n",
        "\n",
        "formatted_chats = chat_prompts.format_messages(\n",
        "    user_request=\"Tell me about Best Picnic Places in paksitan\",\n",
        "    formate_instructons=parser.get_format_instructions()\n",
        ")\n",
        "\n",
        "llm_response = llm.invoke(formatted_chats)\n",
        "to_markdown(llm_response.content)\n"
      ],
      "metadata": {
        "colab": {
          "base_uri": "https://localhost:8080/",
          "height": 80
        },
        "id": "Rspx8KWj9-hR",
        "outputId": "2ead0b74-1d63-4eb0-cc38-47abccfc9e68"
      },
      "execution_count": null,
      "outputs": [
        {
          "output_type": "execute_result",
          "data": {
            "text/plain": [
              "<IPython.core.display.Markdown object>"
            ],
            "text/markdown": "> Frere Hill, Karachi, Lahore Fort, Hiran Minar, Sheikhupura, Rohtas Fort, Jehlum,  Saidpur Village, Islamabad,  Lake Saiful Muluk, Naran,  Neela Sandh, Hunza,  Kund Malir Beach, Balochistan,  Mangla Lake, Azad Kashmir\n"
          },
          "metadata": {},
          "execution_count": 38
        }
      ]
    }
  ]
}